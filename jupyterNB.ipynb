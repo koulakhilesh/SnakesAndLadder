{
 "cells": [
  {
   "cell_type": "code",
   "execution_count": 8,
   "id": "working-thesis",
   "metadata": {},
   "outputs": [],
   "source": [
    "from snake_and_ladder import snake_n_ladder \n",
    "import numpy as np\n",
    "from tqdm import tqdm\n",
    "import matplotlib.pyplot as plt\n",
    "import seaborn as sns\n",
    "sns.set_theme()"
   ]
  },
  {
   "cell_type": "code",
   "execution_count": 9,
   "id": "important-eleven",
   "metadata": {},
   "outputs": [
    {
     "name": "stderr",
     "output_type": "stream",
     "text": [
      "100%|██████████| 9/9 [07:44<00:00, 51.66s/it]\n"
     ]
    }
   ],
   "source": [
    "player_list=np.arange(1,10)\n",
    "avg_rounds_list=[]\n",
    "player_win_prob=[]\n",
    "epoch_plays_num=10\n",
    "iteration_plays_num=10000\n",
    "for player in tqdm(player_list):\n",
    "    game=snake_n_ladder(player_num=player, epoch_plays_num=epoch_plays_num,iteration_plays_num=iteration_plays_num)\n",
    "    avg_round,win_prob=game.play_god()\n",
    "    avg_rounds_list.append(avg_round)\n",
    "    player_win_prob.append(win_prob)\n",
    "    # print(\"\\nWinning probabilty = \"+str(win_prob))"
   ]
  },
  {
   "cell_type": "code",
   "execution_count": 10,
   "id": "dirty-amber",
   "metadata": {},
   "outputs": [
    {
     "data": {
      "image/png": "[encoded data removed]",
      "text/plain": [
       "<Figure size 432x288 with 1 Axes>"
      ]
     },
     "metadata": {},
     "output_type": "display_data"
    }
   ],
   "source": [
    "plt.plot(player_list,avg_rounds_list)\n",
    "plt.xlabel('Number of Players')\n",
    "plt.ylabel('Average number of round plays')\n",
    "plt.title('Average number of round plays to finish the game with '+str(player_list[-1]+1) +' players and '+str(epoch_plays_num*iteration_plays_num)+ ' respective simulation')\n",
    "plt.ylim(0,50)\n",
    "plt.show\n",
    "df=pd.DataFrame()\n",
    "df['playerNum']=player_list\n",
    "df['avgRounds']=avg_rounds_list"
   ]
  },
  {
   "cell_type": "code",
   "execution_count": 11,
   "id": "emotional-television",
   "metadata": {},
   "outputs": [
    {
     "data": {
      "text/html": [
       "<div>\n",
       "<style scoped>\n",
       "    .dataframe tbody tr th:only-of-type {\n",
       "        vertical-align: middle;\n",
       "    }\n",
       "\n",
       "    .dataframe tbody tr th {\n",
       "        vertical-align: top;\n",
       "    }\n",
       "\n",
       "    .dataframe thead th {\n",
       "        text-align: right;\n",
       "    }\n",
       "</style>\n",
       "<table border=\"1\" class=\"dataframe\">\n",
       "  <thead>\n",
       "    <tr style=\"text-align: right;\">\n",
       "      <th></th>\n",
       "      <th>playerNum</th>\n",
       "      <th>avgRounds</th>\n",
       "    </tr>\n",
       "  </thead>\n",
       "  <tbody>\n",
       "    <tr>\n",
       "      <th>0</th>\n",
       "      <td>1</td>\n",
       "      <td>39.42122</td>\n",
       "    </tr>\n",
       "    <tr>\n",
       "      <th>1</th>\n",
       "      <td>2</td>\n",
       "      <td>26.28064</td>\n",
       "    </tr>\n",
       "    <tr>\n",
       "      <th>2</th>\n",
       "      <td>3</td>\n",
       "      <td>21.79795</td>\n",
       "    </tr>\n",
       "    <tr>\n",
       "      <th>3</th>\n",
       "      <td>4</td>\n",
       "      <td>19.28466</td>\n",
       "    </tr>\n",
       "    <tr>\n",
       "      <th>4</th>\n",
       "      <td>5</td>\n",
       "      <td>17.70620</td>\n",
       "    </tr>\n",
       "  </tbody>\n",
       "</table>\n",
       "</div>"
      ],
      "text/plain": [
       "   playerNum  avgRounds\n",
       "0          1   39.42122\n",
       "1          2   26.28064\n",
       "2          3   21.79795\n",
       "3          4   19.28466\n",
       "4          5   17.70620"
      ]
     },
     "execution_count": 11,
     "metadata": {},
     "output_type": "execute_result"
    }
   ],
   "source": [
    "df.head()"
   ]
  },
  {
   "cell_type": "code",
   "execution_count": null,
   "id": "armed-venture",
   "metadata": {},
   "outputs": [],
   "source": []
  }
 ],
 "metadata": {
  "kernelspec": {
   "display_name": "Python 3",
   "language": "python",
   "name": "python3"
  },
  "language_info": {
   "codemirror_mode": {
    "name": "ipython",
    "version": 3
   },
   "file_extension": ".py",
   "mimetype": "text/x-python",
   "name": "python",
   "nbconvert_exporter": "python",
   "pygments_lexer": "ipython3",
   "version": "3.8.5"
  }
 },
 "nbformat": 4,
 "nbformat_minor": 5
}
